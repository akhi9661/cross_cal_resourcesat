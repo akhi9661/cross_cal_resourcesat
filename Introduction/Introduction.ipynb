{
 "cells": [
  {
   "attachments": {},
   "cell_type": "markdown",
   "metadata": {},
   "source": [
    "[![image](https://colab.research.google.com/assets/colab-badge.svg)](https://colab.research.google.com/github/akhi9661/cross_cal_resourcesat/blob/main/docs/Introduction.ipynb)"
   ]
  },
  {
   "attachments": {},
   "cell_type": "markdown",
   "metadata": {},
   "source": [
    "This is a help file for using the `cross_cal_resourcesat` package."
   ]
  },
  {
   "attachments": {},
   "cell_type": "markdown",
   "metadata": {},
   "source": [
    "Install the library if not installed before."
   ]
  },
  {
   "cell_type": "code",
   "execution_count": null,
   "metadata": {},
   "outputs": [],
   "source": [
    "%pip install cross_cal_resourcesat"
   ]
  },
  {
   "attachments": {},
   "cell_type": "markdown",
   "metadata": {},
   "source": [
    "`pip install cross_cal_resourcesat` will generally install the dependencies too. If not, install the dependencies."
   ]
  },
  {
   "cell_type": "code",
   "execution_count": null,
   "metadata": {},
   "outputs": [],
   "source": [
    "%pip install gdal rasterio numpy glob2 regex"
   ]
  },
  {
   "attachments": {},
   "cell_type": "markdown",
   "metadata": {},
   "source": [
    "Many a times installing `gdal` from `pip` fails. In that case either use other channels like `conda-forge` or use a direct link."
   ]
  },
  {
   "cell_type": "code",
   "execution_count": null,
   "metadata": {},
   "outputs": [],
   "source": [
    "%pip install --find-links = https://girder.github.io/large_image_wheels --no-cache GDAL"
   ]
  },
  {
   "attachments": {},
   "cell_type": "markdown",
   "metadata": {},
   "source": [
    "Import the dependency libraries in the environment."
   ]
  },
  {
   "cell_type": "code",
   "execution_count": null,
   "metadata": {},
   "outputs": [],
   "source": [
    "import rasterio, os, re, math, glob, shutil\n",
    "from osgeo import gdal, osr, gdalconst\n",
    "import numpy as np"
   ]
  },
  {
   "attachments": {},
   "cell_type": "markdown",
   "metadata": {},
   "source": [
    "Import `cross_cal_resourcesat` library."
   ]
  },
  {
   "cell_type": "code",
   "execution_count": null,
   "metadata": {},
   "outputs": [],
   "source": [
    "import cross_cal_resourcesat"
   ]
  },
  {
   "attachments": {},
   "cell_type": "markdown",
   "metadata": {},
   "source": [
    "Set the paths to folder containing LISS III/AWiFS and reference sensors (Landsat 8/Sentinel 2). Use the absolute path.\n",
    "Note: If reference sensor is not Landsat 8 or Sentinel 2, then `inpf_ref` should point to folder containing reflectance images of reference sensor and not the radiance image."
   ]
  },
  {
   "cell_type": "code",
   "execution_count": null,
   "metadata": {},
   "outputs": [],
   "source": [
    "inpf_liss = r'\\docs\\Examples\\liss'\n",
    "inpf_s2 = r'\\docs\\Examples\\ref_s2'\n",
    "inpf_l8 = r'\\docs\\Examples\\ref_l8'\n",
    "inpf_others = r'\\docs\\Examples\\ref_others\\reflectance'"
   ]
  },
  {
   "attachments": {},
   "cell_type": "markdown",
   "metadata": {},
   "source": [
    "If `reference_sensor` is Landsat 8, use:"
   ]
  },
  {
   "cell_type": "code",
   "execution_count": null,
   "metadata": {},
   "outputs": [],
   "source": [
    "cross_cal_resourcesat.do_calibration(inpf_liss = inpf_liss, inpf_ref = inpf_l8, reference_sensor = 'Landsat 8')"
   ]
  },
  {
   "attachments": {},
   "cell_type": "markdown",
   "metadata": {},
   "source": [
    "If `reference_sensor` is Sentinel 2, use:"
   ]
  },
  {
   "cell_type": "code",
   "execution_count": null,
   "metadata": {},
   "outputs": [],
   "source": [
    "cross_cal_resourcesat.do_calibration(inpf_liss = inpf_liss, inpf_ref = inpf_s2, reference_sensor = 'Sentinel 2')"
   ]
  },
  {
   "attachments": {},
   "cell_type": "markdown",
   "metadata": {},
   "source": [
    "For other reference sensors, set `reference_sensor = 'Others'`"
   ]
  },
  {
   "cell_type": "code",
   "execution_count": null,
   "metadata": {},
   "outputs": [],
   "source": [
    "cross_cal_resourcesat.do_calibration(inpf_liss = inpf_liss, inpf_ref = inpf_others, reference_sensor = 'Others')"
   ]
  }
 ],
 "metadata": {
  "kernelspec": {
   "display_name": "geo",
   "language": "python",
   "name": "python3"
  },
  "language_info": {
   "codemirror_mode": {
    "name": "ipython",
    "version": 3
   },
   "file_extension": ".py",
   "mimetype": "text/x-python",
   "name": "python",
   "nbconvert_exporter": "python",
   "pygments_lexer": "ipython3",
   "version": "3.10.6"
  },
  "orig_nbformat": 4
 },
 "nbformat": 4,
 "nbformat_minor": 2
}
